{
  "nbformat": 4,
  "nbformat_minor": 0,
  "metadata": {
    "colab": {
      "name": "Introduction_to_Python_new.ipynb",
      "provenance": [],
      "collapsed_sections": []
    },
    "kernelspec": {
      "display_name": "Python 3",
      "language": "python",
      "name": "python3"
    },
    "language_info": {
      "codemirror_mode": {
        "name": "ipython",
        "version": 3
      },
      "file_extension": ".py",
      "mimetype": "text/x-python",
      "name": "python",
      "nbconvert_exporter": "python",
      "pygments_lexer": "ipython3",
      "version": "3.7.4"
    }
  },
  "cells": [
    {
      "cell_type": "markdown",
      "metadata": {
        "id": "k5D7rhbZZoWE"
      },
      "source": [
        "## Python Installation\n",
        "\n",
        "https://www.python.org/downloads/"
      ]
    },
    {
      "cell_type": "markdown",
      "metadata": {
        "id": "d5KdyOmIdITo"
      },
      "source": [
        "\n",
        "\n",
        "```\n",
        "`# This is formatted as code`\n",
        "```\n",
        "\n",
        "## Print Statement"
      ]
    },
    {
      "cell_type": "code",
      "metadata": {
        "colab": {
          "base_uri": "https://localhost:8080/"
        },
        "id": "_1lFYyUQdHPI",
        "outputId": "c7be7efd-ea35-4a44-9e5d-679bbca1023b"
      },
      "source": [
        "print(\"My name is Khushi Jain\")\n",
        "print(\"I am a DTU student\")\n",
        "print(19)"
      ],
      "execution_count": null,
      "outputs": [
        {
          "output_type": "stream",
          "text": [
            "My name is Khushi Jain\n",
            "I am a DTU student\n",
            "19\n"
          ],
          "name": "stdout"
        }
      ]
    },
    {
      "cell_type": "markdown",
      "metadata": {
        "id": "SwjYeXf_bjvt"
      },
      "source": [
        "## Variables and Data Types"
      ]
    },
    {
      "cell_type": "code",
      "metadata": {
        "colab": {
          "base_uri": "https://localhost:8080/"
        },
        "id": "XLJ-Dzwxbd6I",
        "outputId": "979fbd0e-2fca-4289-f010-38298e53e515"
      },
      "source": [
        "name = \"Aman Gupta\"\n",
        "age = 20\n",
        "print(f\"My name is {name}\")\n",
        "print(f\"I am {age} years old\")"
      ],
      "execution_count": null,
      "outputs": [
        {
          "output_type": "stream",
          "text": [
            "My name is Aman Gupta\n",
            "I am 20 years old\n"
          ],
          "name": "stdout"
        }
      ]
    },
    {
      "cell_type": "code",
      "metadata": {
        "colab": {
          "base_uri": "https://localhost:8080/"
        },
        "id": "5AfWms2veewb",
        "outputId": "e1dc0716-671b-4824-dacf-631070a89a06"
      },
      "source": [
        "number = 23 + 46\n",
        "print(number)\n",
        "number = 23.67\n",
        "print(number)\n",
        "\n",
        "\n",
        "is_num = True \n",
        "is_string = False"
      ],
      "execution_count": null,
      "outputs": [
        {
          "output_type": "stream",
          "text": [
            "69\n",
            "23.67\n"
          ],
          "name": "stdout"
        }
      ]
    },
    {
      "cell_type": "markdown",
      "metadata": {
        "id": "VhQdkeSEfH_3"
      },
      "source": [
        "## Comments"
      ]
    },
    {
      "cell_type": "code",
      "metadata": {
        "colab": {
          "base_uri": "https://localhost:8080/",
          "height": 33
        },
        "id": "eUEkNGVNfG7R",
        "outputId": "9b9e4b88-4fae-40d4-9e0f-1652e24d6213"
      },
      "source": [
        "a = 55  #This is a number \n",
        "print(a)"
      ],
      "execution_count": null,
      "outputs": [
        {
          "output_type": "stream",
          "text": [
            "55\n"
          ],
          "name": "stdout"
        }
      ]
    },
    {
      "cell_type": "markdown",
      "metadata": {
        "id": "TnUYiQVpfW6V"
      },
      "source": [
        "## Working with Strings"
      ]
    },
    {
      "cell_type": "code",
      "metadata": {
        "colab": {
          "base_uri": "https://localhost:8080/"
        },
        "id": "EWVKk7_5fV4D",
        "outputId": "5f88bf47-c840-47f0-f674-9261058b4c82"
      },
      "source": [
        "text = \"International organisation \\tOf Software Developers\"\n",
        "print(text)\n",
        "\n",
        "text = \"Once Stephen Hawking said - \\nIntelligence is the ability to adapt to change.\"\n",
        "print(text)"
      ],
      "execution_count": null,
      "outputs": [
        {
          "output_type": "stream",
          "text": [
            "International organisation \tOf Software Developers\n",
            "Once Stephen Hawking said - \n",
            "Intelligence is the ability to adapt to change.\n"
          ],
          "name": "stdout"
        }
      ]
    },
    {
      "cell_type": "code",
      "metadata": {
        "colab": {
          "base_uri": "https://localhost:8080/"
        },
        "id": "rWR9y_8_icbc",
        "outputId": "2fa82285-f28d-4233-a6aa-b4fbde28dacc"
      },
      "source": [
        "text2 = \"Albert\"\n",
        "print(text + text2)  # Concatenation\n",
        "\n",
        "print(text.lower()) #Changing all characters to lower case\n",
        "print(text.upper()) # Changing all characters to upper case\n",
        "print(text.isupper()) # Checking if the string is in upper case or not\n",
        "print(text.upper().isupper())\n",
        "print(text.split())\n",
        "print(text.split(\"e\"))"
      ],
      "execution_count": null,
      "outputs": [
        {
          "output_type": "stream",
          "text": [
            "Once Stephen Hawking said - \n",
            "Intelligence is the ability to adapt to change.Albert\n",
            "once stephen hawking said - \n",
            "intelligence is the ability to adapt to change.\n",
            "ONCE STEPHEN HAWKING SAID - \n",
            "INTELLIGENCE IS THE ABILITY TO ADAPT TO CHANGE.\n",
            "False\n",
            "True\n",
            "['Once', 'Stephen', 'Hawking', 'said', '-', 'Intelligence', 'is', 'the', 'ability', 'to', 'adapt', 'to', 'change.']\n",
            "['Onc', ' St', 'ph', 'n Hawking said - \\nInt', 'llig', 'nc', ' is th', ' ability to adapt to chang', '.']\n"
          ],
          "name": "stdout"
        }
      ]
    },
    {
      "cell_type": "code",
      "metadata": {
        "colab": {
          "base_uri": "https://localhost:8080/",
          "height": 87
        },
        "id": "WnXJjGppjRxj",
        "outputId": "155cb3c5-eed7-482b-c5e2-4374cd70b47b"
      },
      "source": [
        "text2=\"Albert\"\n",
        "length_str=len(text2)\n",
        "print(f\"Length of the string is {length_str}\")\n",
        "print(text2[3]) # Accessing the character at index 0 of the string this is called indexing\n",
        "print(text[1:4:1]) #this is slicing \n",
        "\n",
        "\"\"\"\n",
        "Albert\n",
        "012345\n",
        "\"\"\""
      ],
      "execution_count": null,
      "outputs": [
        {
          "output_type": "stream",
          "text": [
            "Length of the string is 6\n",
            "e\n",
            "nce\n"
          ],
          "name": "stdout"
        },
        {
          "output_type": "execute_result",
          "data": {
            "application/vnd.google.colaboratory.intrinsic+json": {
              "type": "string"
            },
            "text/plain": [
              "'\\nAlbert\\n012345\\n'"
            ]
          },
          "metadata": {
            "tags": []
          },
          "execution_count": 17
        }
      ]
    },
    {
      "cell_type": "markdown",
      "metadata": {
        "id": "s_b2DqU0kfZH"
      },
      "source": [
        "## Working with Numbers"
      ]
    },
    {
      "cell_type": "code",
      "metadata": {
        "colab": {
          "base_uri": "https://localhost:8080/"
        },
        "id": "KmXSgoqElbdK",
        "outputId": "4b994440-3f49-45d8-e0bf-44e831772bce"
      },
      "source": [
        "a = 5 * 3 + 2 - 6 / 4\n",
        "print(a)\n",
        "\n",
        "num = 8.5\n",
        "print(str(num)) # Converting number into a string\n",
        "num2 = -7\n",
        "print(abs(num2))  # Absolute value\n",
        "print(pow(2,3)) # Power function\n",
        "print(10%4) # modulus of a number "
      ],
      "execution_count": null,
      "outputs": [
        {
          "output_type": "stream",
          "text": [
            "15.5\n",
            "8.5\n",
            "7\n",
            "8\n",
            "2\n"
          ],
          "name": "stdout"
        }
      ]
    },
    {
      "cell_type": "markdown",
      "metadata": {
        "id": "ncXzSgl3qNGP"
      },
      "source": [
        "## User Input"
      ]
    },
    {
      "cell_type": "code",
      "metadata": {
        "colab": {
          "base_uri": "https://localhost:8080/"
        },
        "id": "1m4NGe2UqL8t",
        "outputId": "15d14040-7daf-4778-f7ef-25c32adf0d49"
      },
      "source": [
        "x = input(\"Enter a name : \")\n",
        "print(x)"
      ],
      "execution_count": null,
      "outputs": [
        {
          "output_type": "stream",
          "text": [
            "Enter a name : Khushi Jain \n",
            "Khushi Jain \n"
          ],
          "name": "stdout"
        }
      ]
    },
    {
      "cell_type": "markdown",
      "metadata": {
        "id": "zAD8kZVogR86"
      },
      "source": [
        "## Conditional Statement"
      ]
    },
    {
      "cell_type": "code",
      "metadata": {
        "colab": {
          "base_uri": "https://localhost:8080/",
          "height": 33
        },
        "id": "wJGoBxengVUp",
        "outputId": "40115798-ea83-4e90-9dc9-53f7fa153650"
      },
      "source": [
        "str1 = \"Apple\"\n",
        "str2 = \"Mango\"\n",
        "str3 = \"Watermelon\"\n",
        "\n",
        "if (len(str3) < len(str2)):\n",
        "  print(\"Length of str3 is greater than str2\")\n",
        "  print(3)\n",
        "elif (len(str1) != len(str2)):\n",
        "  print(\"Length of str1 is equal to str2\")\n",
        "else:\n",
        "  print(\"Strings are of different lengths\")\n"
      ],
      "execution_count": null,
      "outputs": [
        {
          "output_type": "stream",
          "text": [
            "Strings are of different lengths\n"
          ],
          "name": "stdout"
        }
      ]
    },
    {
      "cell_type": "code",
      "metadata": {
        "colab": {
          "base_uri": "https://localhost:8080/",
          "height": 33
        },
        "id": "R09MDEnRKERI",
        "outputId": "bc6e5d01-bf38-4431-d415-d9c1afe4f65e"
      },
      "source": [
        "num = 2\n",
        "num2 = 2.5\n",
        "if (type(str1)==str and type(num) != int):\n",
        "  print(\"str1 and num are of different types\")\n",
        "\n",
        "if(type(str2)==str or type(num2)==int):\n",
        "  print(\"Either one of the condition above is true or both\")"
      ],
      "execution_count": null,
      "outputs": [
        {
          "output_type": "stream",
          "text": [
            "Either one of the condition above is true or both\n"
          ],
          "name": "stdout"
        }
      ]
    },
    {
      "cell_type": "markdown",
      "metadata": {
        "id": "xVpuY6FVN9CF"
      },
      "source": [
        "## Lists"
      ]
    },
    {
      "cell_type": "code",
      "metadata": {
        "colab": {
          "base_uri": "https://localhost:8080/",
          "height": 67
        },
        "id": "0NRmnVX9N-_f",
        "outputId": "4580d568-047f-47ca-b689-9894c468bca3"
      },
      "source": [
        "cities = [\"Delhi\",\"Mumbai\",\"Chennai\",\"Bengaluru\"]\n",
        "#Indexes     0        1        2          3\n",
        "#Indexes    -4       -3       -2         -1\n",
        "\n",
        "print(cities)\n",
        "print(cities[0])\n",
        "print(cities[-1])"
      ],
      "execution_count": null,
      "outputs": [
        {
          "output_type": "stream",
          "text": [
            "['Delhi', 'Mumbai', 'Chennai', 'Bengaluru']\n",
            "Delhi\n",
            "Bengaluru\n"
          ],
          "name": "stdout"
        }
      ]
    },
    {
      "cell_type": "markdown",
      "metadata": {
        "id": "sqxo2YypPSgw"
      },
      "source": [
        "#### Slicing"
      ]
    },
    {
      "cell_type": "code",
      "metadata": {
        "id": "KEMdj9zMPUv4"
      },
      "source": [
        "print(cities[1:])  #print elements from index 1\n",
        "print(cities[1:4]) #print elements from index 1 to index 3-1\n",
        "print(cities[::-1]) #print list in reverse"
      ],
      "execution_count": null,
      "outputs": []
    },
    {
      "cell_type": "markdown",
      "metadata": {
        "id": "kDiObUNIQLUl"
      },
      "source": [
        "#### List Functions"
      ]
    },
    {
      "cell_type": "code",
      "metadata": {
        "colab": {
          "base_uri": "https://localhost:8080/",
          "height": 117
        },
        "id": "CV0ain-wQOMr",
        "outputId": "23da5769-d4cb-4191-a31c-4c5c810d24e9"
      },
      "source": [
        "city_numbers = [1,2,3,4]\n",
        "cities.extend(city_numbers)   # add the list of elements to another list\n",
        "print(cities)\n",
        "\n",
        "# Adding another element to the city_numbers\n",
        "city_numbers.append(5)\n",
        "print(city_numbers)\n",
        "\n",
        "# Insert another element to cities at index 1\n",
        "cities.insert(1,\"Kolkata\")\n",
        "print(cities)\n",
        "\n",
        "# Remove element \n",
        "cities.remove(\"Delhi\")\n",
        "print(cities)\n",
        "\n",
        "\n",
        "cities = [\"Delhi\",\"Mumbai\",\"Chennai\",\"Bengaluru\"]\n",
        "# Sort elements\n",
        "cities.sort()\n",
        "print(cities)\n",
        "\n",
        "# Reverse the list\n",
        "cities.reverse()\n",
        "print(cities)"
      ],
      "execution_count": null,
      "outputs": [
        {
          "output_type": "stream",
          "text": [
            "['Mumbai', 'Delhi', 'Chennai', 'Bengaluru', 1, 2, 3, 4]\n",
            "[1, 2, 3, 4, 5]\n",
            "['Mumbai', 'Kolkata', 'Delhi', 'Chennai', 'Bengaluru', 1, 2, 3, 4]\n",
            "['Mumbai', 'Kolkata', 'Chennai', 'Bengaluru', 1, 2, 3, 4]\n",
            "['Bengaluru', 'Chennai', 'Delhi', 'Mumbai']\n",
            "['Mumbai', 'Delhi', 'Chennai', 'Bengaluru']\n"
          ],
          "name": "stdout"
        }
      ]
    },
    {
      "cell_type": "markdown",
      "metadata": {
        "id": "e-sgSO1zSbZZ"
      },
      "source": [
        "## Tuples"
      ]
    },
    {
      "cell_type": "code",
      "metadata": {
        "colab": {
          "base_uri": "https://localhost:8080/",
          "height": 50
        },
        "id": "QTNCgQ9XSgOT",
        "outputId": "2ab3f6f6-d57f-4008-d52f-cd8c6350bacf"
      },
      "source": [
        "map_coordinates = (4,5)\n",
        "list_of_coordinates = [(9,10),(4,5),(20,30)]\n",
        "x = map_coordinates[0]\n",
        "y = map_coordinates[1]\n",
        "print(\"x=\",x,\"y=\",y)\n",
        "\n",
        "tuple3 = list_of_coordinates[0] + list_of_coordinates[1]\n",
        "print(tuple3)"
      ],
      "execution_count": null,
      "outputs": [
        {
          "output_type": "stream",
          "text": [
            "x= 4 y= 5\n",
            "(9, 10, 4, 5)\n"
          ],
          "name": "stdout"
        }
      ]
    },
    {
      "cell_type": "markdown",
      "metadata": {
        "id": "ueJEONXWZ__1"
      },
      "source": [
        "## Dictionary\n",
        "A dictionary is a collection which is unordered, changeable and indexed"
      ]
    },
    {
      "cell_type": "code",
      "metadata": {
        "colab": {
          "base_uri": "https://localhost:8080/",
          "height": 117
        },
        "id": "juCHgxtQaDgR",
        "outputId": "717a90dd-5052-48e7-e01b-5931c2f0f2ba"
      },
      "source": [
        "phone_directory = {\"Raman\":8877606112,\"Shyam\":9900123488,\"Aman\":6784431125}\n",
        "\n",
        "print(phone_directory[\"Shyam\"])\n",
        "\n",
        "phone_no = phone_directory.get(\"Aman\")\n",
        "print(phone_no)\n",
        "\n",
        "# List of keys\n",
        "print(phone_directory.keys())\n",
        "\n",
        "# List of values\n",
        "print(phone_directory.values())\n",
        "\n",
        "# List of items in dictionary\n",
        "print(phone_directory.items())\n",
        "\n",
        "# Inserting an item in the dictionary\n",
        "phone_directory[\"Abhishek\"] = 9711235600\n",
        "\n",
        "print(phone_directory)"
      ],
      "execution_count": null,
      "outputs": [
        {
          "output_type": "stream",
          "text": [
            "9900123488\n",
            "6784431125\n",
            "dict_keys(['Raman', 'Shyam', 'Aman'])\n",
            "dict_values([8877606112, 9900123488, 6784431125])\n",
            "dict_items([('Raman', 8877606112), ('Shyam', 9900123488), ('Aman', 6784431125)])\n",
            "{'Raman': 8877606112, 'Shyam': 9900123488, 'Aman': 6784431125, 'Abhishek': 9711235600}\n"
          ],
          "name": "stdout"
        }
      ]
    },
    {
      "cell_type": "code",
      "metadata": {
        "colab": {
          "base_uri": "https://localhost:8080/",
          "height": 50
        },
        "id": "PXTEbzh1etLu",
        "outputId": "03533cb3-0efd-44ab-b9de-43156f2d76c9"
      },
      "source": [
        "phone_directory.pop(\"Aman\")\n",
        "print(phone_directory)\n",
        "\n",
        "phone_directory.popitem()"
      ],
      "execution_count": null,
      "outputs": [
        {
          "output_type": "stream",
          "text": [
            "{'Raman': 8877606112, 'Shyam': 9900123488, 'Abhishek': 9711235600}\n"
          ],
          "name": "stdout"
        },
        {
          "output_type": "execute_result",
          "data": {
            "text/plain": [
              "('Abhishek', 9711235600)"
            ]
          },
          "metadata": {
            "tags": []
          },
          "execution_count": 58
        }
      ]
    },
    {
      "cell_type": "markdown",
      "metadata": {
        "id": "FkUjbbfu60fq"
      },
      "source": [
        "# Python Introduction - Part 2"
      ]
    },
    {
      "cell_type": "markdown",
      "metadata": {
        "id": "2Pxx96fm0P0X"
      },
      "source": [
        "## Sets"
      ]
    },
    {
      "cell_type": "code",
      "metadata": {
        "colab": {
          "base_uri": "https://localhost:8080/"
        },
        "id": "cbHe_Pvn0RuZ",
        "outputId": "65d49fe2-181b-4f8d-efa9-47d7b3a6c07d"
      },
      "source": [
        "mood_set = {\"Happy\",\"Sad\",\"Angry\",\"Fear\"}\n",
        "\n",
        "print(mood_set)"
      ],
      "execution_count": null,
      "outputs": [
        {
          "output_type": "stream",
          "text": [
            "{'Happy', 'Fear', 'Sad', 'Angry'}\n"
          ],
          "name": "stdout"
        }
      ]
    },
    {
      "cell_type": "code",
      "metadata": {
        "colab": {
          "base_uri": "https://localhost:8080/",
          "height": 84
        },
        "id": "QQVh4EaA01eP",
        "outputId": "6611972b-c469-466a-873d-6fbdfdb65adf"
      },
      "source": [
        "for x in mood_set:\n",
        "  print(x)"
      ],
      "execution_count": null,
      "outputs": [
        {
          "output_type": "stream",
          "text": [
            "Sad\n",
            "Happy\n",
            "Fear\n",
            "Angry\n"
          ],
          "name": "stdout"
        }
      ]
    },
    {
      "cell_type": "code",
      "metadata": {
        "colab": {
          "base_uri": "https://localhost:8080/",
          "height": 33
        },
        "id": "tkbsjcDb1WJv",
        "outputId": "3e96df07-e33c-401c-93c9-a5877dd6ef68"
      },
      "source": [
        "mood_set.add(\"Love\")\n",
        "print(mood_set)"
      ],
      "execution_count": null,
      "outputs": [
        {
          "output_type": "stream",
          "text": [
            "{'Sad', 'Angry', 'Happy', 'Love', 'Fear'}\n"
          ],
          "name": "stdout"
        }
      ]
    },
    {
      "cell_type": "code",
      "metadata": {
        "colab": {
          "base_uri": "https://localhost:8080/",
          "height": 33
        },
        "id": "iSVfxkPe2N57",
        "outputId": "134761a0-f433-4c62-9a1f-a50d141a3742"
      },
      "source": [
        "mood_set.remove(\"Sad\")\n",
        "print(mood_set)"
      ],
      "execution_count": null,
      "outputs": [
        {
          "output_type": "stream",
          "text": [
            "{'Angry', 'Happy', 'Love', 'Fear'}\n"
          ],
          "name": "stdout"
        }
      ]
    },
    {
      "cell_type": "code",
      "metadata": {
        "colab": {
          "base_uri": "https://localhost:8080/",
          "height": 33
        },
        "id": "U_a7O1Gm2vvm",
        "outputId": "9efe940e-9e8b-4424-d34e-32997f1b3321"
      },
      "source": [
        "nums_list = [1,2,3,4,1,3,6,3,2,1]\n",
        "\n",
        "nums_set = set(nums_list)\n",
        "\n",
        "print(nums_set)"
      ],
      "execution_count": null,
      "outputs": [
        {
          "output_type": "stream",
          "text": [
            "{1, 2, 3, 4, 6}\n"
          ],
          "name": "stdout"
        }
      ]
    },
    {
      "cell_type": "code",
      "metadata": {
        "colab": {
          "base_uri": "https://localhost:8080/",
          "height": 33
        },
        "id": "qGyylH-a3OMu",
        "outputId": "b4d8ee97-effe-43b6-9231-73e95c5d3ae8"
      },
      "source": [
        "nums_set.add(1)\n",
        "nums_set.add(2)\n",
        "nums_set.add(7)\n",
        "print(nums_set)"
      ],
      "execution_count": null,
      "outputs": [
        {
          "output_type": "stream",
          "text": [
            "{1, 2, 3, 4, 6, 7}\n"
          ],
          "name": "stdout"
        }
      ]
    },
    {
      "cell_type": "markdown",
      "metadata": {
        "id": "BKE1xRSvNfvu"
      },
      "source": [
        "## While Loop"
      ]
    },
    {
      "cell_type": "code",
      "metadata": {
        "colab": {
          "base_uri": "https://localhost:8080/",
          "height": 201
        },
        "id": "niUqGFYyNiYq",
        "outputId": "25f052e7-e34b-4238-d079-0ce4c89ce3ff"
      },
      "source": [
        "i = 10\n",
        "while (i >= 1):\n",
        "  print(i)\n",
        "  i -= 1   # i=i-1\n",
        "\n",
        "print(\"Done with while loop\")"
      ],
      "execution_count": null,
      "outputs": [
        {
          "output_type": "stream",
          "text": [
            "10\n",
            "9\n",
            "8\n",
            "7\n",
            "6\n",
            "5\n",
            "4\n",
            "3\n",
            "2\n",
            "1\n",
            "Done with while loop\n"
          ],
          "name": "stdout"
        }
      ]
    },
    {
      "cell_type": "markdown",
      "metadata": {
        "id": "LDwWHw-iQjZe"
      },
      "source": [
        "## For loop"
      ]
    },
    {
      "cell_type": "code",
      "metadata": {
        "colab": {
          "base_uri": "https://localhost:8080/",
          "height": 134
        },
        "id": "kN4Yy4fWQl-F",
        "outputId": "852fe171-1d5a-4970-dcd0-e50e01a5f12c"
      },
      "source": [
        "numbers = [34,55,66,89,75,22]\n",
        "\n",
        "for num in numbers:\n",
        "  print(num)\n",
        "\n",
        "print(\"Out of the for loop\")"
      ],
      "execution_count": null,
      "outputs": [
        {
          "output_type": "stream",
          "text": [
            "34\n",
            "55\n",
            "66\n",
            "89\n",
            "75\n",
            "22\n",
            "Out of the for loop\n"
          ],
          "name": "stdout"
        }
      ]
    },
    {
      "cell_type": "code",
      "metadata": {
        "colab": {
          "base_uri": "https://localhost:8080/",
          "height": 67
        },
        "id": "UNa5mFAIQ7gD",
        "outputId": "5231d481-2c9c-4b40-d2e9-4ced4fe22cf7"
      },
      "source": [
        "matrix = [[2,3,4],[5,8,10],[9,15,20]]\n",
        "\n",
        "# range(0,3) means we get a list with integers [0,1,2]\n",
        "# range(0,10,2) means we get a list with integers [0,2,4,6,8]\n",
        "for i in range(0,3):\n",
        "  for j in range(0,3):\n",
        "    print(matrix[i][j],end=\" \")\n",
        "  print()\n",
        "\n",
        "# matrix[0][0] -> 2\n",
        "# matrix[0][1] -> 3\n",
        "# matrix[0][2] -> 4\n",
        "# matrix[1][0] -> 5"
      ],
      "execution_count": null,
      "outputs": [
        {
          "output_type": "stream",
          "text": [
            "2 3 4 \n",
            "5 8 10 \n",
            "9 15 20 \n"
          ],
          "name": "stdout"
        }
      ]
    },
    {
      "cell_type": "code",
      "metadata": {
        "colab": {
          "base_uri": "https://localhost:8080/",
          "height": 167
        },
        "id": "-TKnCRg_Rwjj",
        "outputId": "a273fbe8-7d66-4867-e639-251743570ef7"
      },
      "source": [
        "text = \"Microsoft\"\n",
        "\n",
        "for s in text:\n",
        "  print(s)"
      ],
      "execution_count": null,
      "outputs": [
        {
          "output_type": "stream",
          "text": [
            "M\n",
            "i\n",
            "c\n",
            "r\n",
            "o\n",
            "s\n",
            "o\n",
            "f\n",
            "t\n"
          ],
          "name": "stdout"
        }
      ]
    },
    {
      "cell_type": "markdown",
      "metadata": {
        "id": "ozFLzHFMwqOO"
      },
      "source": [
        "#### Break and Continue"
      ]
    },
    {
      "cell_type": "code",
      "metadata": {
        "colab": {
          "base_uri": "https://localhost:8080/",
          "height": 50
        },
        "id": "c8lMzfv1wvyN",
        "outputId": "5eab3927-b706-4d99-e3e9-1b0b64671e79"
      },
      "source": [
        "i = 0\n",
        "\n",
        "while (i < 10):\n",
        "  i+=1\n",
        "  if (i==3):\n",
        "    break\n",
        "  print(\"i = \",i)"
      ],
      "execution_count": null,
      "outputs": [
        {
          "output_type": "stream",
          "text": [
            "i =  1\n",
            "i =  2\n"
          ],
          "name": "stdout"
        }
      ]
    },
    {
      "cell_type": "code",
      "metadata": {
        "colab": {
          "base_uri": "https://localhost:8080/",
          "height": 100
        },
        "id": "tB5WvrCFyVlK",
        "outputId": "35dc1a5f-ea30-472f-cd3c-2877f804c52b"
      },
      "source": [
        "for i in range(10):\n",
        "  if (i==4):\n",
        "    break\n",
        "  print(i)\n",
        "\n",
        "print(\"Out of the for loop\")"
      ],
      "execution_count": null,
      "outputs": [
        {
          "output_type": "stream",
          "text": [
            "0\n",
            "1\n",
            "2\n",
            "3\n",
            "Out of the for loop\n"
          ],
          "name": "stdout"
        }
      ]
    },
    {
      "cell_type": "markdown",
      "metadata": {
        "id": "Hrses184LoPa"
      },
      "source": [
        "## Functions"
      ]
    },
    {
      "cell_type": "code",
      "metadata": {
        "colab": {
          "base_uri": "https://localhost:8080/",
          "height": 33
        },
        "id": "vyllVzYLLr1B",
        "outputId": "491d7b40-2902-4c1f-e5f8-bfc8d8b42d49"
      },
      "source": [
        "def max_num(num1,num2,num3):\n",
        "  if(num1 >= num2 and num1>=num3):\n",
        "    return num1\n",
        "  elif(num2 >= num1 and num2 >= num3):\n",
        "    return num2\n",
        "  else:\n",
        "    return num3\n",
        "\n",
        "max_number = max_num(16,18,9)\n",
        "print(max_number)"
      ],
      "execution_count": null,
      "outputs": [
        {
          "output_type": "stream",
          "text": [
            "18\n"
          ],
          "name": "stdout"
        }
      ]
    },
    {
      "cell_type": "code",
      "metadata": {
        "colab": {
          "base_uri": "https://localhost:8080/",
          "height": 84
        },
        "id": "uSiaswdtZdlM",
        "outputId": "cdf7dd8e-af49-4213-d1a4-2cb1d6307b14"
      },
      "source": [
        "def language(lang = \"English\"):\n",
        "  print(\"I speak \"+ lang)\n",
        "\n",
        "language(\"French\")\n",
        "language(\"German\")\n",
        "language()\n",
        "language(\"Hindi\")"
      ],
      "execution_count": null,
      "outputs": [
        {
          "output_type": "stream",
          "text": [
            "I speak French\n",
            "I speak German\n",
            "I speak English\n",
            "I speak Hindi\n"
          ],
          "name": "stdout"
        }
      ]
    },
    {
      "cell_type": "code",
      "metadata": {
        "colab": {
          "base_uri": "https://localhost:8080/",
          "height": 117
        },
        "id": "AHd7tM2tlUbd",
        "outputId": "d144e5c4-6bf6-44af-88a3-eed88bb3fb66"
      },
      "source": [
        "def programming_lang(pro_lang):\n",
        "  for i in pro_lang:\n",
        "    print(i)\n",
        "\n",
        "lang = \"Python\"\n",
        "programming_lang(lang)"
      ],
      "execution_count": null,
      "outputs": [
        {
          "output_type": "stream",
          "text": [
            "P\n",
            "y\n",
            "t\n",
            "h\n",
            "o\n",
            "n\n"
          ],
          "name": "stdout"
        }
      ]
    },
    {
      "cell_type": "markdown",
      "metadata": {
        "id": "BMq0swl1rnxc"
      },
      "source": [
        "## Classes/Objects"
      ]
    },
    {
      "cell_type": "code",
      "metadata": {
        "colab": {
          "base_uri": "https://localhost:8080/",
          "height": 150
        },
        "id": "NS7QJkT1rvo6",
        "outputId": "3da4a81d-7560-41c1-8923-638c6dd428ef"
      },
      "source": [
        "class Car:\n",
        "  def __init__(self,company,color):\n",
        "    self.company = company\n",
        "    self.color = color\n",
        "  \n",
        "  def show_desc(self):\n",
        "    print(\"This car is made by \"+ self.company)\n",
        "    print(\"This car is \" + self.color + \" in color\")\n",
        "  \n",
        "  def color_change(self,color):\n",
        "    self.color = color \n",
        "\n",
        "p = Car(\"Suzuki\",\"Black\")\n",
        "p.show_desc()\n",
        "\n",
        "q = Car(\"Honda\",\"Red\")\n",
        "q.show_desc()\n",
        "\n",
        "p.color_change(\"White\")\n",
        "q.color_change(\"Blue\")\n",
        "\n",
        "p.show_desc()\n",
        "q.show_desc()"
      ],
      "execution_count": null,
      "outputs": [
        {
          "output_type": "stream",
          "text": [
            "This car is made by Suzuki\n",
            "This car is Black in color\n",
            "This car is made by Honda\n",
            "This car is Red in color\n",
            "This car is made by Suzuki\n",
            "This car is White in color\n",
            "This car is made by Honda\n",
            "This car is Blue in color\n"
          ],
          "name": "stdout"
        }
      ]
    },
    {
      "cell_type": "markdown",
      "metadata": {
        "id": "BQEt5WRk5Ys7"
      },
      "source": [
        "## Exception Handling\n",
        "Try, Except and Finally"
      ]
    },
    {
      "cell_type": "code",
      "metadata": {
        "colab": {
          "base_uri": "https://localhost:8080/",
          "height": 50
        },
        "id": "odalplC95owx",
        "outputId": "dc12b586-233d-4639-fa33-0f3b4db86d86"
      },
      "source": [
        "try:\n",
        "  print(1/0)\n",
        "\n",
        "except NameError:\n",
        "  print(\"Variable variables is not defined\")\n",
        "\n",
        "except:\n",
        "  print(\"Something went wrong\")\n",
        "\n",
        "finally:\n",
        "  print(\"Try and Except statements executed\")"
      ],
      "execution_count": null,
      "outputs": [
        {
          "output_type": "stream",
          "text": [
            "Something went wrong\n",
            "Try and Except statements executed\n"
          ],
          "name": "stdout"
        }
      ]
    },
    {
      "cell_type": "code",
      "metadata": {
        "id": "YcuQAfQbg93s"
      },
      "source": [
        "# Question 1\n",
        "\n",
        "i = 5\n",
        "j = 0\n",
        "while (i - j):\n",
        "  print(\"Hello\")"
      ],
      "execution_count": null,
      "outputs": []
    },
    {
      "cell_type": "code",
      "metadata": {
        "id": "hu_XFsa9iDl_"
      },
      "source": [
        "# Question 2\n",
        "\n",
        "x = ['ab', 'cd']\n",
        "for i in x:\n",
        "    i.upper()\n",
        "print(x)"
      ],
      "execution_count": null,
      "outputs": []
    }
  ]
}