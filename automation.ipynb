{
 "metadata": {
  "language_info": {
   "codemirror_mode": {
    "name": "ipython",
    "version": 3
   },
   "file_extension": ".py",
   "mimetype": "text/x-python",
   "name": "python",
   "nbconvert_exporter": "python",
   "pygments_lexer": "ipython3",
   "version": "3.8.5-final"
  },
  "orig_nbformat": 2,
  "kernelspec": {
   "name": "python3",
   "display_name": "Python 3",
   "language": "python"
  }
 },
 "nbformat": 4,
 "nbformat_minor": 2,
 "cells": [
  {
   "cell_type": "code",
   "execution_count": 9,
   "metadata": {},
   "outputs": [],
   "source": [
    "from selenium import webdriver"
   ]
  },
  {
   "cell_type": "code",
   "execution_count": 10,
   "metadata": {},
   "outputs": [],
   "source": [
    "browser = webdriver.Chrome()"
   ]
  },
  {
   "cell_type": "code",
   "execution_count": 11,
   "metadata": {},
   "outputs": [],
   "source": [
    "# browser.get(\"https://google.com\")\n",
    "url = \"https://docs.google.com/forms/d/e/1FAIpQLSeITOLSafBF1eYJrUjZof5OeVCxIqSIUZQs_HjVD1tSYmgnFw/viewform?usp=sf_link\""
   ]
  },
  {
   "cell_type": "code",
   "execution_count": 12,
   "metadata": {},
   "outputs": [],
   "source": [
    "browser.get(url)"
   ]
  },
  {
   "cell_type": "code",
   "execution_count": 13,
   "metadata": {},
   "outputs": [],
   "source": [
    "names = ['ABC', 'DEF','GHI', 'JKL']"
   ]
  },
  {
   "cell_type": "code",
   "execution_count": 14,
   "metadata": {},
   "outputs": [],
   "source": [
    "browser.implicitly_wait(10)"
   ]
  },
  {
   "cell_type": "code",
   "execution_count": 16,
   "metadata": {},
   "outputs": [],
   "source": [
    "names = ['abc', 'efg', 'hij', 'klmn']\n",
    "browser.implicitly_wait(10)\n",
    "for i in range(4):\n",
    "    text_field = browser.find_element_by_class_name('quantumWizTextinputPaperinputInput')\n",
    "    browser.implicitly_wait(5)\n",
    "    text_field.send_keys(names[i])\n",
    "    Submit = browser.find_element_by_xpath('//*[@id=\"mG61Hd\"]/div[2]/div/div[3]/div[1]/div/div/span/span')\n",
    "    browser.implicitly_wait(10)\n",
    "    Submit.click()\n",
    "    browser.implicitly_wait(5)\n",
    "    # submit another response button\n",
    "    element = browser.find_element_by_css_selector(\".freebirdFormviewerViewResponseLinksContainer a\")\n",
    "    browser.implicitly_wait(10)\n",
    "    element.click()\n"
   ]
  }
 ]
}